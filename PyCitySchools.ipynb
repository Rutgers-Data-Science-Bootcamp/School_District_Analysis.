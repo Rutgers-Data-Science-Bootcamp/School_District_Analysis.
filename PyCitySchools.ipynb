{
 "cells": [
  {
   "cell_type": "code",
   "execution_count": null,
   "id": "1772334f",
   "metadata": {},
   "outputs": [],
   "source": [
    "import pandas as pd\n",
    "#import os"
   ]
  },
  {
   "cell_type": "code",
   "execution_count": null,
   "id": "a2adac45",
   "metadata": {},
   "outputs": [],
   "source": [
    "school_data_to_load = \"Resources/schools_complete.csv\"\n",
    "student_data_to_load = \"Resources/students_complete.csv\""
   ]
  },
  {
   "cell_type": "code",
   "execution_count": null,
   "id": "97914cf6",
   "metadata": {},
   "outputs": [],
   "source": [
    "#school_data_to_load = os.path.join(\"Resources\", \"schools_complete.csv\")\n",
    "#student_data_to_load = os.path.join(\"Resources\", \"students_complete.csv\")"
   ]
  },
  {
   "cell_type": "code",
   "execution_count": null,
   "id": "576b93bf",
   "metadata": {},
   "outputs": [],
   "source": [
    "school_df = pd.read_csv(school_data_to_load)"
   ]
  },
  {
   "cell_type": "code",
   "execution_count": null,
   "id": "78dca4b7",
   "metadata": {},
   "outputs": [],
   "source": [
    "school_df"
   ]
  },
  {
   "cell_type": "code",
   "execution_count": null,
   "id": "5891c94c",
   "metadata": {},
   "outputs": [],
   "source": [
    "school_df.head(10)"
   ]
  },
  {
   "cell_type": "code",
   "execution_count": null,
   "id": "d0bed329",
   "metadata": {},
   "outputs": [],
   "source": [
    "school_df.tail(10)"
   ]
  },
  {
   "cell_type": "code",
   "execution_count": null,
   "id": "d8396e9f",
   "metadata": {},
   "outputs": [],
   "source": [
    "student_df = pd.read_csv(student_data_to_load)"
   ]
  },
  {
   "cell_type": "code",
   "execution_count": null,
   "id": "b57b074f",
   "metadata": {},
   "outputs": [],
   "source": [
    "student_df"
   ]
  },
  {
   "cell_type": "code",
   "execution_count": null,
   "id": "11bf4e0d",
   "metadata": {},
   "outputs": [],
   "source": [
    "school_df.count()"
   ]
  },
  {
   "cell_type": "code",
   "execution_count": null,
   "id": "17f0c5ce",
   "metadata": {},
   "outputs": [],
   "source": [
    "student_df.count()"
   ]
  },
  {
   "cell_type": "code",
   "execution_count": null,
   "id": "481e73f4",
   "metadata": {},
   "outputs": [],
   "source": [
    "school_df.isnull()"
   ]
  },
  {
   "cell_type": "code",
   "execution_count": null,
   "id": "6611c30c",
   "metadata": {},
   "outputs": [],
   "source": [
    "student_df.isnull().sum()"
   ]
  },
  {
   "cell_type": "code",
   "execution_count": null,
   "id": "e95b73f7",
   "metadata": {},
   "outputs": [],
   "source": [
    "school_df.notnull()"
   ]
  },
  {
   "cell_type": "code",
   "execution_count": null,
   "id": "cf7e4635",
   "metadata": {},
   "outputs": [],
   "source": [
    "student_df.notnull().sum()"
   ]
  },
  {
   "cell_type": "code",
   "execution_count": null,
   "id": "a9254c78",
   "metadata": {},
   "outputs": [],
   "source": [
    "school_df.dtypes"
   ]
  },
  {
   "cell_type": "code",
   "execution_count": null,
   "id": "3f67ef7a",
   "metadata": {},
   "outputs": [],
   "source": [
    "student_df.dtypes\n"
   ]
  },
  {
   "cell_type": "code",
   "execution_count": null,
   "id": "4fd662af",
   "metadata": {},
   "outputs": [],
   "source": [
    "student_name =student_df[\"student_name\"].tolist()\n",
    "student_name"
   ]
  },
  {
   "cell_type": "code",
   "execution_count": null,
   "id": "d1c6f7b4",
   "metadata": {},
   "outputs": [],
   "source": [
    "for name in student_name:\n",
    "    print(name.split(),len(name.split()))"
   ]
  },
  {
   "cell_type": "code",
   "execution_count": null,
   "id": "67b9ada7",
   "metadata": {},
   "outputs": [],
   "source": [
    "prefixes_suffixes = [\"Dr. \", \"Mr. \",\"Ms. \", \"Mrs. \", \"Miss \", \" MD\", \" DDS\", \" DVM\", \" PhD\"]"
   ]
  },
  {
   "cell_type": "code",
   "execution_count": null,
   "id": "0aadfcf6",
   "metadata": {},
   "outputs": [],
   "source": [
    "for word in prefixes_suffixes:\n",
    "    student_df['student_name'] = student_df['student_name'].str.replace(word,\"\",regex =True)"
   ]
  },
  {
   "cell_type": "code",
   "execution_count": null,
   "id": "cdfb4c83",
   "metadata": {},
   "outputs": [],
   "source": [
    "student_df"
   ]
  },
  {
   "cell_type": "code",
   "execution_count": null,
   "id": "824278d3",
   "metadata": {},
   "outputs": [],
   "source": [
    "for word in prefixes_suffixes:\n",
    "    student_df[\"student_name\"] = student_df[\"student_name\"].str.replace(word,\"\", regex=True)"
   ]
  },
  {
   "cell_type": "code",
   "execution_count": null,
   "id": "33df9d4b",
   "metadata": {},
   "outputs": [],
   "source": [
    "student_df[\"student_name\"].head(10)"
   ]
  },
  {
   "cell_type": "code",
   "execution_count": null,
   "id": "6e8a3f4d",
   "metadata": {},
   "outputs": [],
   "source": [
    "student_name=student_df[\"student_name\"]\n",
    "student_name.head(10)\n"
   ]
  },
  {
   "cell_type": "code",
   "execution_count": null,
   "id": "a9669beb",
   "metadata": {},
   "outputs": [],
   "source": [
    "student_df.head(5)"
   ]
  },
  {
   "cell_type": "code",
   "execution_count": null,
   "id": "505de5a8",
   "metadata": {},
   "outputs": [],
   "source": [
    "school_df.head()"
   ]
  },
  {
   "cell_type": "code",
   "execution_count": null,
   "id": "fd6af9da",
   "metadata": {},
   "outputs": [],
   "source": [
    "school_data_df_complete = pd.merge(student_df, school_df, on= [\"school_name\", \"school_name\"])\n",
    "school_data_df_complete.head()"
   ]
  },
  {
   "cell_type": "code",
   "execution_count": null,
   "id": "bba10736",
   "metadata": {},
   "outputs": [],
   "source": [
    "student_count = school_data_df_complete.count()\n",
    "student_count"
   ]
  },
  {
   "cell_type": "code",
   "execution_count": null,
   "id": "d242c2ff",
   "metadata": {},
   "outputs": [],
   "source": [
    "school_data_df_complete[\"Student ID\"].count()"
   ]
  },
  {
   "cell_type": "code",
   "execution_count": null,
   "id": "0c4e7f12",
   "metadata": {},
   "outputs": [],
   "source": [
    "school_count = school_df[\"school_name\"].count()\n",
    "school_count"
   ]
  },
  {
   "cell_type": "code",
   "execution_count": null,
   "id": "820eb336",
   "metadata": {},
   "outputs": [],
   "source": [
    "school_count2 = school_data_df_complete[\"school_name\"].unique()"
   ]
  },
  {
   "cell_type": "code",
   "execution_count": null,
   "id": "8b4d61f9",
   "metadata": {},
   "outputs": [],
   "source": [
    "school_count2"
   ]
  },
  {
   "cell_type": "code",
   "execution_count": null,
   "id": "1401489e",
   "metadata": {},
   "outputs": [],
   "source": [
    "len(school_data_df_complete[\"school_name\"].unique())"
   ]
  },
  {
   "cell_type": "code",
   "execution_count": null,
   "id": "2b90a330",
   "metadata": {},
   "outputs": [],
   "source": [
    "total_budget = school_data_df_complete[\"budget\"].sum()\n",
    "total_budget"
   ]
  },
  {
   "cell_type": "code",
   "execution_count": null,
   "id": "3553fa65",
   "metadata": {},
   "outputs": [],
   "source": [
    "total_budget = school_df[\"budget\"].sum()\n",
    "total_budget"
   ]
  },
  {
   "cell_type": "code",
   "execution_count": null,
   "id": "eeaa8f6b",
   "metadata": {},
   "outputs": [],
   "source": [
    "average_reading_score = school_data_df_complete[\"reading_score\"].mean()\n",
    "average_reading_score"
   ]
  },
  {
   "cell_type": "code",
   "execution_count": null,
   "id": "8d05cbea",
   "metadata": {},
   "outputs": [],
   "source": [
    "average_math_score = school_data_df_complete[\"math_score\"].mean()\n",
    "average_math_score"
   ]
  },
  {
   "cell_type": "code",
   "execution_count": null,
   "id": "b103e176",
   "metadata": {},
   "outputs": [],
   "source": [
    "passing_math = school_data_df_complete[\"math_score\"] >= 70\n",
    "passing_math"
   ]
  },
  {
   "cell_type": "code",
   "execution_count": null,
   "id": "ae5d275b",
   "metadata": {},
   "outputs": [],
   "source": [
    "passing_math.count()"
   ]
  },
  {
   "cell_type": "code",
   "execution_count": null,
   "id": "9b547b98",
   "metadata": {},
   "outputs": [],
   "source": [
    "passing_math_df = school_data_df_complete[school_data_df_complete[\"math_score\"] >= 70]\n",
    "passing_math_df.head()"
   ]
  },
  {
   "cell_type": "code",
   "execution_count": null,
   "id": "795b1170",
   "metadata": {},
   "outputs": [],
   "source": [
    "#passing_math_df = pd.DataFrame(school_data_df_complete[\"math_score\"] >= 70)\n",
    "#passing_math_df.head()"
   ]
  },
  {
   "cell_type": "code",
   "execution_count": null,
   "id": "f0190125",
   "metadata": {},
   "outputs": [],
   "source": [
    "passing_reading_df= school_data_df_complete[school_data_df_complete[\"reading_score\"] >= 70]\n",
    "passing_reading_df"
   ]
  },
  {
   "cell_type": "code",
   "execution_count": null,
   "id": "be37587b",
   "metadata": {},
   "outputs": [],
   "source": [
    "passing_math_count = passing_math_df[\"student_name\"].count()\n",
    "passing_reading_count = passing_reading_df[\"student_name\"].count()"
   ]
  },
  {
   "cell_type": "code",
   "execution_count": null,
   "id": "ea83b895",
   "metadata": {},
   "outputs": [],
   "source": [
    "print(passing_math_count)\n",
    "print(passing_reading_count)"
   ]
  },
  {
   "cell_type": "code",
   "execution_count": null,
   "id": "a0249e7b",
   "metadata": {},
   "outputs": [],
   "source": [
    "student_count =school_data_df_complete[\"Student ID\"].count()\n",
    "student_count"
   ]
  },
  {
   "cell_type": "code",
   "execution_count": null,
   "id": "933a59a8",
   "metadata": {},
   "outputs": [],
   "source": [
    "passing_math_percentage = passing_math_count/student_count*100\n",
    "passing_math_percentage"
   ]
  },
  {
   "cell_type": "code",
   "execution_count": null,
   "id": "913ad2ad",
   "metadata": {},
   "outputs": [],
   "source": [
    "passing_reading_percentage = passing_reading_count/student_count*100\n",
    "passing_reading_percentage"
   ]
  },
  {
   "cell_type": "code",
   "execution_count": null,
   "id": "0dae5516",
   "metadata": {},
   "outputs": [],
   "source": [
    "passing_math_reading = school_data_df_complete[(school_data_df_complete[\"math_score\"] >= 70) & (school_data_df_complete[\"reading_score\"] >= 70)]"
   ]
  },
  {
   "cell_type": "code",
   "execution_count": null,
   "id": "96508243",
   "metadata": {},
   "outputs": [],
   "source": [
    "passing_math_reading.head()"
   ]
  },
  {
   "cell_type": "code",
   "execution_count": null,
   "id": "e9322eaa",
   "metadata": {},
   "outputs": [],
   "source": [
    "passing_math_reading[\"student_name\"].count()"
   ]
  },
  {
   "cell_type": "code",
   "execution_count": null,
   "id": "5dce99d6",
   "metadata": {},
   "outputs": [],
   "source": [
    "overall_passing_math_reading_count = passing_math_reading[\"student_name\"].count()\n",
    "overall_passing_math_reading_count"
   ]
  },
  {
   "cell_type": "code",
   "execution_count": null,
   "id": "5e33b9dd",
   "metadata": {},
   "outputs": [],
   "source": [
    "overall_passing_math_reading_percentage= overall_passing_math_reading_count/student_count*100\n",
    "overall_passing_math_reading_percentage"
   ]
  },
  {
   "cell_type": "code",
   "execution_count": null,
   "id": "e8e823ec",
   "metadata": {},
   "outputs": [],
   "source": [
    "District_summary_df =pd.DataFrame(\n",
    "        [{\"Total School\": school_count,\n",
    "        \"Total Students\": student_count,\n",
    "        \"Total Budget\": total_budget,\n",
    "        \"Average Math Score\": average_math_score,\n",
    "        \"Average Reading Score\": average_reading_score,\n",
    "        \"% Passing Math\": passing_math_percentage,\n",
    "        \"% Passing Reading\": passing_reading_percentage,\n",
    "        \"% Overall Passing\": overall_passing_math_reading_percentage}])"
   ]
  },
  {
   "cell_type": "code",
   "execution_count": null,
   "id": "de471016",
   "metadata": {},
   "outputs": [],
   "source": [
    "District_summary_df"
   ]
  },
  {
   "cell_type": "code",
   "execution_count": null,
   "id": "a3fd8905",
   "metadata": {},
   "outputs": [],
   "source": [
    "def say_hello():\n",
    "    print(\"Hello!\")"
   ]
  },
  {
   "cell_type": "code",
   "execution_count": null,
   "id": "80a240c2",
   "metadata": {},
   "outputs": [],
   "source": [
    "say_hello()"
   ]
  },
  {
   "cell_type": "code",
   "execution_count": null,
   "id": "185e51ba",
   "metadata": {},
   "outputs": [],
   "source": [
    "def say_something(something):\n",
    "    print(something)"
   ]
  },
  {
   "cell_type": "code",
   "execution_count": null,
   "id": "4df1864a",
   "metadata": {},
   "outputs": [],
   "source": [
    "say_something(\"Ilovepython\")"
   ]
  },
  {
   "cell_type": "code",
   "execution_count": null,
   "id": "abdf6cff",
   "metadata": {},
   "outputs": [],
   "source": [
    "Jane_says = \"Hi, my name is Jane. I'm learning Python!\"\n",
    "say_something(Jane_says)"
   ]
  },
  {
   "cell_type": "code",
   "execution_count": null,
   "id": "e9d9fcde",
   "metadata": {},
   "outputs": [],
   "source": [
    "def sum_integer():\n",
    "    print(1+5)"
   ]
  },
  {
   "cell_type": "code",
   "execution_count": null,
   "id": "122799c5",
   "metadata": {},
   "outputs": [],
   "source": [
    "sum_integer()"
   ]
  },
  {
   "cell_type": "code",
   "execution_count": null,
   "id": "d382704a",
   "metadata": {},
   "outputs": [],
   "source": [
    "say_something(\"i love my family\")"
   ]
  },
  {
   "cell_type": "code",
   "execution_count": null,
   "id": "29d602d9",
   "metadata": {},
   "outputs": [],
   "source": [
    "#writing function for the school District data \n",
    "#define a function that calculates the percentage of students that passed math\n",
    "#math and reading and returns the passing percentage when the function is called\n",
    "\n",
    "def passing_math_percent(pass_math_count, student_count):\n",
    "    return pass_math_count/float(student_count)*100"
   ]
  },
  {
   "cell_type": "code",
   "execution_count": null,
   "id": "39e6549f",
   "metadata": {},
   "outputs": [],
   "source": [
    "passing_math_count = 29370\n"
   ]
  },
  {
   "cell_type": "code",
   "execution_count": null,
   "id": "9359e898",
   "metadata": {},
   "outputs": [],
   "source": [
    "total_student_count = 39170"
   ]
  },
  {
   "cell_type": "code",
   "execution_count": null,
   "id": "1bf8a470",
   "metadata": {},
   "outputs": [],
   "source": [
    "#Call the function\n",
    "passing_math_percent(passing_math_count, total_student_count)"
   ]
  },
  {
   "cell_type": "code",
   "execution_count": null,
   "id": "04374935",
   "metadata": {},
   "outputs": [],
   "source": [
    "# A list of my grades\n",
    "my_grades = ['B','C','B','D']"
   ]
  },
  {
   "cell_type": "code",
   "execution_count": null,
   "id": "a8e9334f",
   "metadata": {},
   "outputs": [],
   "source": [
    "#Convert my_grades to a Seriesa\n",
    "my_grades = pd.Series(my_grades)\n",
    "my_grades"
   ]
  },
  {
   "cell_type": "code",
   "execution_count": null,
   "id": "ccadd098",
   "metadata": {},
   "outputs": [],
   "source": [
    "my_grades.map({\"B\":'A',\"C\":\"B\",\"D\":\"C\"})"
   ]
  },
  {
   "cell_type": "code",
   "execution_count": null,
   "id": "605df26b",
   "metadata": {},
   "outputs": [],
   "source": [
    "my_grades = [92.34, 84.56, 86.78, 98.32]\n",
    "for grade in my_grades:\n",
    "    print(\"{:.0f}\".format(grade))"
   ]
  },
  {
   "cell_type": "code",
   "execution_count": null,
   "id": "6a1ea3d4",
   "metadata": {},
   "outputs": [],
   "source": [
    "my_grades = pd.Series([92.34, 84.56, 86.78, 98.32])\n",
    "my_grades.map(\"{:.0f}\".format)"
   ]
  },
  {
   "cell_type": "code",
   "execution_count": null,
   "id": "ab2fc490",
   "metadata": {},
   "outputs": [],
   "source": [
    "#District_summary_df[\"Total Students\"] = District_summary_df[\"Total Students\"].map(\"{:,}\".format)\n",
    "District_summary_df[\"Total Students\"]"
   ]
  },
  {
   "cell_type": "code",
   "execution_count": null,
   "id": "2d9ea319",
   "metadata": {},
   "outputs": [],
   "source": [
    "District_summary_df[\"Total Budget\"] = District_summary_df[\"Total Budget\"].map(\"${:}\".format)\n",
    "District_summary_df[\"Total Budget\"]"
   ]
  },
  {
   "cell_type": "code",
   "execution_count": null,
   "id": "f0985a6a",
   "metadata": {},
   "outputs": [],
   "source": [
    "District_summary_df"
   ]
  },
  {
   "cell_type": "code",
   "execution_count": null,
   "id": "eadaaea6",
   "metadata": {},
   "outputs": [],
   "source": [
    "District_summary_df[\"Average Math Score\"] = District_summary_df[\"Average Math Score\"].map(\"{:.1f}\".format)\n",
    "\n",
    "District_summary_df[\"Average Reading Score\"] = District_summary_df[\"Average Reading Score\"].map(\"{:.1f}\".format)\n",
    "\n",
    "District_summary_df[\"% Passing Math\"] = District_summary_df[\"% Passing Math\"].map(\"{:.0f}\".format)\n",
    "\n",
    "District_summary_df[\"% Passing Reading\"] = District_summary_df[\"% Passing Reading\"].map(\"{:.0f}\".format)\n",
    "\n",
    "District_summary_df[\"% Overall Passing\"] = District_summary_df[\"% Overall Passing\"].map(\"{:.0f}\".format)"
   ]
  },
  {
   "cell_type": "code",
   "execution_count": null,
   "id": "d903a913",
   "metadata": {},
   "outputs": [],
   "source": [
    "District_summary_df"
   ]
  },
  {
   "cell_type": "code",
   "execution_count": null,
   "id": "b3d765ce",
   "metadata": {},
   "outputs": [],
   "source": [
    "school_df"
   ]
  },
  {
   "cell_type": "code",
   "execution_count": null,
   "id": "02e1efa8",
   "metadata": {},
   "outputs": [],
   "source": [
    "per_school_types =school_df.set_index([\"school_name\"])[\"type\"]\n",
    "per_school_types\n"
   ]
  },
  {
   "cell_type": "code",
   "execution_count": null,
   "id": "6eed6236",
   "metadata": {},
   "outputs": [],
   "source": [
    "df=pd.DataFrame(per_school_types)\n",
    "df"
   ]
  },
  {
   "cell_type": "code",
   "execution_count": null,
   "id": "0366b65f",
   "metadata": {},
   "outputs": [],
   "source": [
    "per_student_count= school_df[\"size\"]\n",
    "\n",
    "per_student_count"
   ]
  },
  {
   "cell_type": "code",
   "execution_count": null,
   "id": "55d7e89f",
   "metadata": {},
   "outputs": [],
   "source": [
    "per_school_counts =school_df.set_index([\"school_name\"])[\"size\"]\n",
    "per_school_counts"
   ]
  },
  {
   "cell_type": "code",
   "execution_count": null,
   "id": "b468f032",
   "metadata": {},
   "outputs": [],
   "source": [
    "school_data_df_complete.head()"
   ]
  },
  {
   "cell_type": "code",
   "execution_count": null,
   "id": "be4a4c84",
   "metadata": {},
   "outputs": [],
   "source": [
    "per_school_counts = school_data_df_complete[\"school_name\"].value_counts()\n",
    "per_school_counts"
   ]
  },
  {
   "cell_type": "code",
   "execution_count": null,
   "id": "02af142c",
   "metadata": {},
   "outputs": [],
   "source": [
    "per_school_budget = school_df.set_index([\"school_name\"])[\"budget\"]\n",
    "per_school_budget"
   ]
  },
  {
   "cell_type": "code",
   "execution_count": null,
   "id": "7d6954e4",
   "metadata": {},
   "outputs": [],
   "source": [
    "per_school_capita = per_school_budget / per_school_counts\n",
    "per_school_capita"
   ]
  },
  {
   "cell_type": "code",
   "execution_count": null,
   "id": "c4a3ea2d",
   "metadata": {},
   "outputs": [],
   "source": [
    "# Calculate the math scores.\n",
    "student_school_math = student_df.set_index([\"school_name\"])[\"math_score\"]\n",
    "student_school_math"
   ]
  },
  {
   "cell_type": "code",
   "execution_count": null,
   "id": "ea242481",
   "metadata": {},
   "outputs": [],
   "source": [
    "per_school_averages = school_data_df_complete.groupby([\"school_name\"]).mean()\n",
    "per_school_averages"
   ]
  },
  {
   "cell_type": "code",
   "execution_count": null,
   "id": "fa288d72",
   "metadata": {},
   "outputs": [],
   "source": [
    "# Calculate the average test scores.\n",
    "per_school_math = school_data_df_complete.groupby([\"school_name\"]).mean()[\"math_score\"]\n",
    "\n",
    "per_school_reading = school_data_df_complete.groupby([\"school_name\"]).mean()[\"reading_score\"]"
   ]
  },
  {
   "cell_type": "code",
   "execution_count": null,
   "id": "45d09bb5",
   "metadata": {},
   "outputs": [],
   "source": [
    "per_school_math"
   ]
  },
  {
   "cell_type": "code",
   "execution_count": null,
   "id": "83997406",
   "metadata": {},
   "outputs": [],
   "source": [
    "per_school_reading"
   ]
  },
  {
   "cell_type": "code",
   "execution_count": null,
   "id": "5c4531b9",
   "metadata": {},
   "outputs": [],
   "source": [
    "# Calculate the passing scores by creating a filtered DataFrame.\n",
    "per_school_passing_math = school_data_df_complete[(school_data_df_complete[\"math_score\"] >= 70)]\n",
    "\n",
    "per_school_passing_reading = school_data_df_complete[(school_data_df_complete[\"reading_score\"] >= 70)]\n"
   ]
  },
  {
   "cell_type": "code",
   "execution_count": null,
   "id": "9a91b581",
   "metadata": {},
   "outputs": [],
   "source": [
    "per_school_passing_math, "
   ]
  },
  {
   "cell_type": "code",
   "execution_count": null,
   "id": "cfc3cae1",
   "metadata": {},
   "outputs": [],
   "source": [
    "# Calculate the number of students passing math and passing reading by school.\n",
    "per_school_passing_math = per_school_passing_math.groupby([\"school_name\"]).count()[\"student_name\"]\n",
    "\n",
    "per_school_passing_reading = per_school_passing_reading.groupby([\"school_name\"]).count()[\"student_name\"]\n"
   ]
  },
  {
   "cell_type": "code",
   "execution_count": null,
   "id": "110ca768",
   "metadata": {},
   "outputs": [],
   "source": [
    "per_school_passing_math"
   ]
  },
  {
   "cell_type": "code",
   "execution_count": null,
   "id": "e3a8528c",
   "metadata": {},
   "outputs": [],
   "source": [
    "per_school_passing_reading"
   ]
  },
  {
   "cell_type": "code",
   "execution_count": null,
   "id": "57d18f1b",
   "metadata": {},
   "outputs": [],
   "source": [
    "# Calculate the percentage of passing math and reading scores per school.\n",
    "per_school_passing_math = per_school_passing_math / per_school_counts * 100\n",
    "\n",
    "per_school_passing_reading = per_school_passing_reading / per_school_counts * 100"
   ]
  },
  {
   "cell_type": "code",
   "execution_count": null,
   "id": "68a0dbb9",
   "metadata": {},
   "outputs": [],
   "source": [
    "per_school_passing_math"
   ]
  },
  {
   "cell_type": "code",
   "execution_count": null,
   "id": "2fc284e0",
   "metadata": {},
   "outputs": [],
   "source": [
    "per_school_passing_reading"
   ]
  },
  {
   "cell_type": "code",
   "execution_count": null,
   "id": "67ce6fb0",
   "metadata": {},
   "outputs": [],
   "source": [
    "# Calculate the students who passed both math and reading.\n",
    "per_passing_math_reading = school_data_df_complete[(school_data_df_complete[\"math_score\"] >= 70) & (school_data_df_complete[\"reading_score\"] >= 70)]\n",
    "\n",
    "per_passing_math_reading.head()"
   ]
  },
  {
   "cell_type": "code",
   "execution_count": null,
   "id": "a52ff1ce",
   "metadata": {},
   "outputs": [],
   "source": [
    "# Calculate the number of students who passed both math and reading.\n",
    "per_passing_math_reading = per_passing_math_reading.groupby([\"school_name\"]).count()[\"student_name\"]"
   ]
  },
  {
   "cell_type": "code",
   "execution_count": null,
   "id": "7a896bde",
   "metadata": {},
   "outputs": [],
   "source": [
    "#Calculate the overall passing percentage.\n",
    "per_overall_passing_percentage = per_passing_math_reading / per_school_counts * 100"
   ]
  },
  {
   "cell_type": "code",
   "execution_count": null,
   "id": "e67c6fcd",
   "metadata": {},
   "outputs": [],
   "source": [
    "per_overall_passing_percentage "
   ]
  },
  {
   "cell_type": "code",
   "execution_count": null,
   "id": "a1973cd3",
   "metadata": {},
   "outputs": [],
   "source": [
    "per_school_summary_df = pd.DataFrame({\n",
    "             \"School Type\": per_school_types,\n",
    "             \"Total Students\": per_school_counts,\n",
    "             \"Total School Budget\": per_school_budget,\n",
    "             \"Per Student Budget\": per_school_capita,\n",
    "             \"Average Math Score\": per_school_math,\n",
    "           \"Average Reading Score\": per_school_reading,\n",
    "           \"% Passing Math\": per_school_passing_math,\n",
    "           \"% Passing Reading\": per_school_passing_reading,\n",
    "           \"% Overall Passing\": per_overall_passing_percentage})\n",
    "per_school_summary_df.head(5)"
   ]
  },
  {
   "cell_type": "code",
   "execution_count": null,
   "id": "4f4e7a25",
   "metadata": {},
   "outputs": [],
   "source": [
    "#4.9.1 Find the highest prforming Schools\n",
    "#Sort and show top five schools.\n",
    "top_schools = per_school_summary_df.sort_values([\"% Overall Passing\"], ascending = False)\n",
    "top_schools.head()"
   ]
  },
  {
   "cell_type": "code",
   "execution_count": null,
   "id": "5c57a580",
   "metadata": {},
   "outputs": [],
   "source": [
    "#Find the lowest performing schools\n",
    "bottom_schools = per_school_summary_df.sort_values([\"% Overall Passing\"], ascending = True)\n",
    "bottom_schools.head()"
   ]
  },
  {
   "cell_type": "code",
   "execution_count": null,
   "id": "110bb2a9",
   "metadata": {},
   "outputs": [],
   "source": [
    "bottom_schools = per_school_summary_df.sort_values([\"% Overall Passing\"])\n",
    "bottom_schools.head()"
   ]
  },
  {
   "cell_type": "code",
   "execution_count": null,
   "id": "e2eca12a",
   "metadata": {},
   "outputs": [],
   "source": [
    "#4.9.3 Object Oriented Programming\n",
    "class Cat:\n",
    "    def __init__(self, name):\n",
    "        self.name = name"
   ]
  },
  {
   "cell_type": "code",
   "execution_count": null,
   "id": "99a95297",
   "metadata": {},
   "outputs": [],
   "source": [
    "first_cat =Cat('Felix')\n",
    "print(first_cat.name)"
   ]
  },
  {
   "cell_type": "code",
   "execution_count": null,
   "id": "8e483d2f",
   "metadata": {},
   "outputs": [],
   "source": [
    "second_cat = Cat('Garfield')\n",
    "print(second_cat.name)"
   ]
  },
  {
   "cell_type": "code",
   "execution_count": null,
   "id": "cdd834be",
   "metadata": {},
   "outputs": [],
   "source": [
    "class Dog:\n",
    "    def __init__(self, name, color, sound):\n",
    "        self.name= name\n",
    "        self.color = color\n",
    "        self.sound = sound\n",
    "        \n",
    "    def bark(self):\n",
    "        return self.sound + ' ' + self.sound"
   ]
  },
  {
   "cell_type": "code",
   "execution_count": null,
   "id": "3616571b",
   "metadata": {},
   "outputs": [],
   "source": [
    "first_dog = Dog('Fido', 'brown', 'woof!')\n",
    "print (first_dog.name)"
   ]
  },
  {
   "cell_type": "code",
   "execution_count": null,
   "id": "d2c9116b",
   "metadata": {},
   "outputs": [],
   "source": [
    "print(first_dog.color)"
   ]
  },
  {
   "cell_type": "code",
   "execution_count": null,
   "id": "91fbf6f1",
   "metadata": {},
   "outputs": [],
   "source": [
    "first_dog.bark()"
   ]
  },
  {
   "cell_type": "code",
   "execution_count": null,
   "id": "dc842c10",
   "metadata": {},
   "outputs": [],
   "source": [
    "second_dog = Dog('layd','blond','arf!')\n",
    "second_dog.bark()\n",
    "        "
   ]
  },
  {
   "cell_type": "code",
   "execution_count": null,
   "id": "6c97ccfe",
   "metadata": {},
   "outputs": [],
   "source": [
    "#4.10.1 Creat Grade level DataFrame\n"
   ]
  },
  {
   "cell_type": "code",
   "execution_count": null,
   "id": "e7d20735",
   "metadata": {},
   "outputs": [],
   "source": [
    "school_data_df_complete.head()"
   ]
  },
  {
   "cell_type": "code",
   "execution_count": null,
   "id": "4664cae0",
   "metadata": {},
   "outputs": [],
   "source": [
    "ninth_graders = school_data_df_complete[(school_data_df_complete[\"grade\"]==\"9th\")]"
   ]
  },
  {
   "cell_type": "code",
   "execution_count": null,
   "id": "7a7efc82",
   "metadata": {},
   "outputs": [],
   "source": [
    "ninth_graders.head()"
   ]
  },
  {
   "cell_type": "code",
   "execution_count": null,
   "id": "b2154858",
   "metadata": {},
   "outputs": [],
   "source": [
    "tenth_graders = school_data_df_complete[(school_data_df_complete[\"grade\"]==\"10th\")]\n",
    "eleventh_graders =school_data_df_complete[(school_data_df_complete[\"grade\"]==\"11th\")]\n",
    "twelfth_graders=school_data_df_complete[(school_data_df_complete[\"grade\"]==\"12th\")]"
   ]
  },
  {
   "cell_type": "code",
   "execution_count": null,
   "id": "b5b5b3eb",
   "metadata": {},
   "outputs": [],
   "source": [
    "tenth_graders.head()"
   ]
  },
  {
   "cell_type": "code",
   "execution_count": null,
   "id": "f7f32190",
   "metadata": {},
   "outputs": [],
   "source": [
    "ninth_grade_math_scores = ninth_graders.groupby([\"school_name\"]).mean()[\"math_score\"]"
   ]
  },
  {
   "cell_type": "code",
   "execution_count": null,
   "id": "a6aed6d3",
   "metadata": {},
   "outputs": [],
   "source": [
    "tenth_grade_math_scores = tenth_graders.groupby([\"school_name\"]).mean()[\"math_score\"]\n",
    "eleventh_grade_math_scores = eleventh_graders.groupby([\"school_name\"]).mean()[\"math_score\"]\n",
    "twelfth_grade_math_scores = twelfth_graders.groupby([\"school_name\"]).mean()[\"math_score\"]"
   ]
  },
  {
   "cell_type": "code",
   "execution_count": null,
   "id": "4762e0e2",
   "metadata": {},
   "outputs": [],
   "source": [
    "ninth_grade_math_scores"
   ]
  },
  {
   "cell_type": "code",
   "execution_count": null,
   "id": "bdae7e60",
   "metadata": {},
   "outputs": [],
   "source": [
    "eleventh_grade_math_scores"
   ]
  },
  {
   "cell_type": "code",
   "execution_count": null,
   "id": "899f00bc",
   "metadata": {},
   "outputs": [],
   "source": [
    "# Group each grade level DataFrame by the school name for the average reading score.\n",
    "ninth_grade_reading_scores = ninth_graders.groupby([\"school_name\"]).mean()[\"reading_score\"]\n",
    "\n",
    "tenth_grade_reading_scores = tenth_graders.groupby([\"school_name\"]).mean()[\"reading_score\"]\n",
    "\n",
    "eleventh_grade_reading_scores = eleventh_graders.groupby([\"school_name\"]).mean()[\"reading_score\"]\n",
    "\n",
    "twelfth_grade_reading_scores = twelfth_graders.groupby([\"school_name\"]).mean()[\"reading_score\"]"
   ]
  },
  {
   "cell_type": "code",
   "execution_count": null,
   "id": "3c282532",
   "metadata": {},
   "outputs": [],
   "source": [
    "ninth_grade_reading_scores"
   ]
  },
  {
   "cell_type": "code",
   "execution_count": null,
   "id": "a3842ef7",
   "metadata": {},
   "outputs": [],
   "source": [
    "twelfth_grade_reading_scores"
   ]
  },
  {
   "cell_type": "code",
   "execution_count": null,
   "id": "44610b48",
   "metadata": {},
   "outputs": [],
   "source": [
    "#4.10.3\n",
    "#Combine each grade level series into a DataFrame"
   ]
  },
  {
   "cell_type": "code",
   "execution_count": null,
   "id": "9bb290c6",
   "metadata": {},
   "outputs": [],
   "source": [
    "math_score_by_grade = pd.DataFrame({\n",
    "    \"9th\" : ninth_grade_math_scores,\n",
    "    \"10th\" : tenth_grade_math_scores,\n",
    "    \"11th\" : eleventh_grade_math_scores,\n",
    "    \"12th\" : twelfth_grade_math_scores\n",
    "})\n",
    "math_score_by_grade.head()"
   ]
  },
  {
   "cell_type": "code",
   "execution_count": null,
   "id": "2d257e76",
   "metadata": {},
   "outputs": [],
   "source": [
    "reading_score_by_grade = pd.DataFrame({\n",
    "    \"9th\" : ninth_grade_reading_scores,\n",
    "    \"10th\" : tenth_grade_reading_scores,\n",
    "    \"11th\" : eleventh_grade_reading_scores,\n",
    "    \"12th\" : twelfth_grade_reading_scores\n",
    "})\n",
    "reading_score_by_grade.head()"
   ]
  },
  {
   "cell_type": "code",
   "execution_count": null,
   "id": "b84c7100",
   "metadata": {},
   "outputs": [],
   "source": [
    "math_score_by_grade[\"9th\"]= math_score_by_grade[\"9th\"].map(\"{:.1f}\".format)"
   ]
  },
  {
   "cell_type": "code",
   "execution_count": null,
   "id": "deb53cb7",
   "metadata": {},
   "outputs": [],
   "source": [
    "math_score_by_grade[\"10th\"]= math_score_by_grade[\"10th\"].map(\"{:.1f}\".format)"
   ]
  },
  {
   "cell_type": "code",
   "execution_count": null,
   "id": "f1810082",
   "metadata": {},
   "outputs": [],
   "source": [
    "math_score_by_grade[\"11th\"]= math_score_by_grade[\"11th\"].map(\"{:.1f}\".format)"
   ]
  },
  {
   "cell_type": "code",
   "execution_count": null,
   "id": "d99355fd",
   "metadata": {},
   "outputs": [],
   "source": [
    "math_score_by_grade[\"12th\"]= math_score_by_grade[\"12th\"].map(\"{:.1f}\".format)"
   ]
  },
  {
   "cell_type": "code",
   "execution_count": null,
   "id": "57f48731",
   "metadata": {},
   "outputs": [],
   "source": [
    "math_score_by_grade.index.name=None"
   ]
  },
  {
   "cell_type": "code",
   "execution_count": null,
   "id": "24362f03",
   "metadata": {},
   "outputs": [],
   "source": [
    "math_score_by_grade.head()"
   ]
  },
  {
   "cell_type": "code",
   "execution_count": null,
   "id": "6a716fc6",
   "metadata": {},
   "outputs": [],
   "source": [
    "reading_score_by_grade[\"9th\"]= reading_score_by_grade[\"9th\"].map(\"{:.1f}\".format)"
   ]
  },
  {
   "cell_type": "code",
   "execution_count": null,
   "id": "4cf24414",
   "metadata": {},
   "outputs": [],
   "source": [
    "reading_score_by_grade[\"10th\"]= reading_score_by_grade[\"10th\"].map(\"{:.1f}\".format)"
   ]
  },
  {
   "cell_type": "code",
   "execution_count": null,
   "id": "f48c2ed6",
   "metadata": {},
   "outputs": [],
   "source": [
    "reading_score_by_grade[\"11th\"]= reading_score_by_grade[\"11th\"].map(\"{:.1f}\".format)"
   ]
  },
  {
   "cell_type": "code",
   "execution_count": null,
   "id": "a34bb5fa",
   "metadata": {},
   "outputs": [],
   "source": [
    "reading_score_by_grade[\"12th\"]= reading_score_by_grade[\"12th\"].map(\"{:.1f}\".format)"
   ]
  },
  {
   "cell_type": "code",
   "execution_count": null,
   "id": "09685b2a",
   "metadata": {},
   "outputs": [],
   "source": [
    "reading_score_by_grade.index.name=None"
   ]
  },
  {
   "cell_type": "code",
   "execution_count": null,
   "id": "2d102e0e",
   "metadata": {},
   "outputs": [],
   "source": [
    "reading_score_by_grade"
   ]
  },
  {
   "cell_type": "code",
   "execution_count": null,
   "id": "5acc0b6e",
   "metadata": {},
   "outputs": [],
   "source": [
    "#4.11.1 \n",
    "#Establish the sepnding ranges per student\n",
    "per_school_capita.describe()"
   ]
  },
  {
   "cell_type": "code",
   "execution_count": null,
   "id": "65e02fec",
   "metadata": {},
   "outputs": [],
   "source": [
    "spending_bins = [0, 585, 615,645, 675]\n",
    "pd.cut(per_school_capita, spending_bins)"
   ]
  },
  {
   "cell_type": "code",
   "execution_count": null,
   "id": "7ca4a735",
   "metadata": {},
   "outputs": [],
   "source": [
    "spending_bins = [0, 585, 615,645, 675]\n",
    "per_school_capita.groupby(pd.cut(per_school_capita, spending_bins)).count()"
   ]
  },
  {
   "cell_type": "code",
   "execution_count": null,
   "id": "39ed8fcd",
   "metadata": {},
   "outputs": [],
   "source": [
    "# Establish the spending bins and group names.\n",
    "spending_bins = [0, 585, 630, 645, 675]\n",
    "group_names = [\"<$586\", \"$586-630\", \"$631-645\", \"$646-675\"]"
   ]
  },
  {
   "cell_type": "code",
   "execution_count": null,
   "id": "a03ea102",
   "metadata": {},
   "outputs": [],
   "source": [
    "per_school_capita"
   ]
  },
  {
   "cell_type": "code",
   "execution_count": null,
   "id": "ea8817d0",
   "metadata": {},
   "outputs": [],
   "source": [
    "# Categorize spending based on the bins.\n",
    "per_school_summary_df[\"Spending Ranges (Per Student)\"] = pd.cut(per_school_capita, spending_bins, labels=group_names)\n",
    "\n",
    "per_school_summary_df"
   ]
  },
  {
   "cell_type": "code",
   "execution_count": null,
   "id": "124c2fcb",
   "metadata": {},
   "outputs": [],
   "source": [
    "# Calculate averages for the desired columns.\n",
    "spending_math_scores = per_school_summary_df.groupby([\"Spending Ranges (Per Student)\"]).mean()[\"Average Math Score\"]\n",
    "\n",
    "spending_reading_scores = per_school_summary_df.groupby([\"Spending Ranges (Per Student)\"]).mean()[\"Average Reading Score\"]\n",
    "\n",
    "spending_passing_math = per_school_summary_df.groupby([\"Spending Ranges (Per Student)\"]).mean()[\"% Passing Math\"]\n",
    "\n",
    "spending_passing_reading = per_school_summary_df.groupby([\"Spending Ranges (Per Student)\"]).mean()[\"% Passing Reading\"]\n",
    "\n",
    "overall_passing_spending = per_school_summary_df.groupby([\"Spending Ranges (Per Student)\"]).mean()[\"% Overall Passing\"]"
   ]
  },
  {
   "cell_type": "code",
   "execution_count": null,
   "id": "82e32de9",
   "metadata": {},
   "outputs": [],
   "source": [
    "overall_passing_spending"
   ]
  },
  {
   "cell_type": "code",
   "execution_count": null,
   "id": "6d5e5f05",
   "metadata": {},
   "outputs": [],
   "source": [
    "#4.11.4\n",
    "# Assemble into DataFrame.\n",
    "spending_summary_df = pd.DataFrame({\n",
    "          \"Average Math Score\" : spending_math_scores,\n",
    "          \"Average Reading Score\": spending_reading_scores,\n",
    "          \"% Passing Math\": spending_passing_math,\n",
    "          \"% Passing Reading\": spending_passing_reading,\n",
    "          \"% Overall Passing\": overall_passing_spending})\n",
    "\n",
    "spending_summary_df"
   ]
  },
  {
   "cell_type": "code",
   "execution_count": null,
   "id": "94059547",
   "metadata": {},
   "outputs": [],
   "source": [
    "# Formatting\n",
    "spending_summary_df[\"Average Math Score\"] = spending_summary_df[\"Average Math Score\"].map(\"{:.1f}\".format)\n",
    "\n",
    "spending_summary_df[\"Average Reading Score\"] = spending_summary_df[\"Average Reading Score\"].map(\"{:.1f}\".format)\n",
    "\n",
    "spending_summary_df[\"% Passing Math\"] = spending_summary_df[\"% Passing Math\"].map(\"{:.0f}\".format)\n",
    "\n",
    "spending_summary_df[\"% Passing Reading\"] = spending_summary_df[\"% Passing Reading\"].map(\"{:.0f}\".format)\n",
    "\n",
    "spending_summary_df[\"% Overall Passing\"] = spending_summary_df[\"% Overall Passing\"].map(\"{:.0f}\".format)\n",
    "\n",
    "spending_summary_df"
   ]
  },
  {
   "cell_type": "code",
   "execution_count": null,
   "id": "565d5963",
   "metadata": {},
   "outputs": [],
   "source": [
    "per_school_counts"
   ]
  },
  {
   "cell_type": "code",
   "execution_count": null,
   "id": "06f0906d",
   "metadata": {},
   "outputs": [],
   "source": [
    "# Establish the bins.\n",
    "size_bins = [0, 999, 1999, 5000]\n",
    "group_names = [\"Small (<1000)\", \"Medium (1000-1999)\", \"Large (2000-5000)\"]"
   ]
  },
  {
   "cell_type": "code",
   "execution_count": null,
   "id": "b938b434",
   "metadata": {},
   "outputs": [],
   "source": [
    "# Categorize spending based on the bins.\n",
    "per_school_summary_df[\"School Size\"] = pd.cut(per_school_summary_df[\"Total Students\"], size_bins, labels=group_names)\n",
    "\n",
    "per_school_summary_df.head()"
   ]
  },
  {
   "cell_type": "code",
   "execution_count": null,
   "id": "7908d1fe",
   "metadata": {},
   "outputs": [],
   "source": [
    "# Calculate averages for the desired columns.\n",
    "size_math_scores = per_school_summary_df.groupby([\"School Size\"]).mean()[\"Average Math Score\"]\n",
    "\n",
    "size_reading_scores = per_school_summary_df.groupby([\"School Size\"]).mean()[\"Average Reading Score\"]\n",
    "\n",
    "size_passing_math = per_school_summary_df.groupby([\"School Size\"]).mean()[\"% Passing Math\"]\n",
    "\n",
    "size_passing_reading = per_school_summary_df.groupby([\"School Size\"]).mean()[\"% Passing Reading\"]\n",
    "\n",
    "size_overall_passing = per_school_summary_df.groupby([\"School Size\"]).mean()[\"% Overall Passing\"]"
   ]
  },
  {
   "cell_type": "code",
   "execution_count": null,
   "id": "27c86f16",
   "metadata": {},
   "outputs": [],
   "source": [
    "size_summary_df=pd.DataFrame({\n",
    "    \"Average Math Score\" : size_math_scores,\n",
    "          \"Average Reading Score\": size_reading_scores,\n",
    "          \"% Passing Math\": size_passing_math,\n",
    "          \"% Passing Reading\": size_passing_reading,\n",
    "          \"% Overall Passing\": size_overall_passing\n",
    "})\n",
    "size_summary_df"
   ]
  },
  {
   "cell_type": "code",
   "execution_count": null,
   "id": "8c6348f0",
   "metadata": {},
   "outputs": [],
   "source": [
    "#Calculate averages for the desired columns:\n",
    "type_math_scores = per_school_summary_df.groupby([\"School Type\"]).mean()[\"Average Math Score\"]\n"
   ]
  },
  {
   "cell_type": "code",
   "execution_count": null,
   "id": "8542b6b0",
   "metadata": {},
   "outputs": [],
   "source": [
    "type_reading_scores = per_school_summary_df.groupby([\"School Type\"]).mean()[\"Average Reading Score\"]\n"
   ]
  },
  {
   "cell_type": "code",
   "execution_count": null,
   "id": "40a12f45",
   "metadata": {},
   "outputs": [],
   "source": [
    "type_passing_math = per_school_summary_df.groupby([\"School Type\"]).mean()[\"% Passing Math\"]\n"
   ]
  },
  {
   "cell_type": "code",
   "execution_count": null,
   "id": "1eaa1d8a",
   "metadata": {},
   "outputs": [],
   "source": [
    "type_passing_reading = per_school_summary_df.groupby([\"School Type\"]).mean()[\"% Passing Reading\"]\n",
    "\n"
   ]
  },
  {
   "cell_type": "code",
   "execution_count": null,
   "id": "b4e0f1f7",
   "metadata": {},
   "outputs": [],
   "source": [
    "type_overall_passing = per_school_summary_df.groupby([\"School Type\"]).mean()[\"% Overall Passing\"]"
   ]
  },
  {
   "cell_type": "code",
   "execution_count": null,
   "id": "fcc0cd25",
   "metadata": {},
   "outputs": [],
   "source": [
    "type_summary_df =pd.DataFrame({\n",
    "    \"Average Math Score\" : type_math_scores,\n",
    "    \"Average Reading Score\": type_reading_scores,\n",
    "    \"% Passing Math\": type_passing_math,\n",
    "    \"% Passing Reading\": type_passing_reading,\n",
    "    \"% Overall Passing\": type_overall_passing\n",
    "})"
   ]
  },
  {
   "cell_type": "code",
   "execution_count": null,
   "id": "36d9b4d0",
   "metadata": {},
   "outputs": [],
   "source": [
    "type_summary_df"
   ]
  },
  {
   "cell_type": "code",
   "execution_count": null,
   "id": "8c3850a7",
   "metadata": {},
   "outputs": [],
   "source": [
    "type_summary_df[\"Average Math Score\"]= type_summary_df[\"Average Math Score\"].map(\"{:.0f}\".format)"
   ]
  },
  {
   "cell_type": "code",
   "execution_count": null,
   "id": "367a2f98",
   "metadata": {},
   "outputs": [],
   "source": [
    "type_summary_df[\"Average Reading Score\"] = type_summary_df[\"Average Reading Score\"].map(\"{:.0f}\".format)"
   ]
  },
  {
   "cell_type": "code",
   "execution_count": null,
   "id": "6b16b036",
   "metadata": {},
   "outputs": [],
   "source": [
    "type_summary_df[\"% Passing Math\"]=type_summary_df[\"% Passing Math\"].map(\"{:.0f}\".format)\n"
   ]
  },
  {
   "cell_type": "code",
   "execution_count": null,
   "id": "f7fa7f75",
   "metadata": {},
   "outputs": [],
   "source": [
    "type_summary_df[\"% Passing Reading\"]=type_summary_df[\"% Passing Reading\"].map(\"{:.0f}\".format)"
   ]
  },
  {
   "cell_type": "code",
   "execution_count": null,
   "id": "2866ea72",
   "metadata": {},
   "outputs": [],
   "source": [
    "type_summary_df[\"% Overall Passing\"] = type_summary_df[\"% Overall Passing\"].map(\"{:.0f}\".format)\n",
    "\n",
    "type_summary_df"
   ]
  },
  {
   "cell_type": "code",
   "execution_count": null,
   "id": "fff28d7d",
   "metadata": {},
   "outputs": [],
   "source": []
  },
  {
   "cell_type": "code",
   "execution_count": null,
   "id": "23b1593d",
   "metadata": {},
   "outputs": [],
   "source": []
  }
 ],
 "metadata": {
  "kernelspec": {
   "display_name": "PythonData",
   "language": "python",
   "name": "pythondata"
  },
  "language_info": {
   "codemirror_mode": {
    "name": "ipython",
    "version": 3
   },
   "file_extension": ".py",
   "mimetype": "text/x-python",
   "name": "python",
   "nbconvert_exporter": "python",
   "pygments_lexer": "ipython3",
   "version": "3.9.12"
  }
 },
 "nbformat": 4,
 "nbformat_minor": 5
}
